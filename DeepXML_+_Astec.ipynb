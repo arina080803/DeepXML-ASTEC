{
  "cells": [
    {
      "cell_type": "markdown",
      "metadata": {
        "id": "view-in-github",
        "colab_type": "text"
      },
      "source": [
        "<a href=\"https://colab.research.google.com/github/arina080803/DeepXML-ASTEC/blob/Deep-XML-%2B-ASTEC/DeepXML_%2B_Astec.ipynb\" target=\"_parent\"><img src=\"https://colab.research.google.com/assets/colab-badge.svg\" alt=\"Open In Colab\"/></a>"
      ]
    },
    {
      "cell_type": "code",
      "execution_count": 1,
      "metadata": {
        "id": "b0I7i-PJjNXs",
        "colab": {
          "base_uri": "https://localhost:8080/"
        },
        "outputId": "139d8b70-6114-460f-8b71-142698d11093"
      },
      "outputs": [
        {
          "output_type": "stream",
          "name": "stdout",
          "text": [
            "mkdir: cannot create directory ‘work_directory’: File exists\n"
          ]
        }
      ],
      "source": [
        "! mkdir work_directory"
      ]
    },
    {
      "cell_type": "code",
      "execution_count": 2,
      "metadata": {
        "colab": {
          "base_uri": "https://localhost:8080/"
        },
        "id": "ImytyNrXj7Iv",
        "outputId": "8a850e7b-45b5-48f1-9c75-f954c6242fe4"
      },
      "outputs": [
        {
          "output_type": "stream",
          "name": "stdout",
          "text": [
            "/content/work_directory\n"
          ]
        }
      ],
      "source": [
        "%cd work_directory"
      ]
    },
    {
      "cell_type": "code",
      "execution_count": 3,
      "metadata": {
        "id": "0fIREFm-kSLQ",
        "colab": {
          "base_uri": "https://localhost:8080/"
        },
        "outputId": "681ae6bf-32f6-4710-a1a0-46f356858148"
      },
      "outputs": [
        {
          "output_type": "stream",
          "name": "stdout",
          "text": [
            "mkdir: cannot create directory ‘programs’: File exists\n",
            "mkdir: cannot create directory ‘data’: File exists\n",
            "mkdir: cannot create directory ‘models’: File exists\n",
            "mkdir: cannot create directory ‘results’: File exists\n"
          ]
        }
      ],
      "source": [
        "! mkdir programs data models results"
      ]
    },
    {
      "cell_type": "code",
      "execution_count": 4,
      "metadata": {
        "colab": {
          "base_uri": "https://localhost:8080/"
        },
        "id": "eEsVyzcFk7IF",
        "outputId": "7ec0b53c-bd2d-42f8-c2c5-33d9f8f9f34c"
      },
      "outputs": [
        {
          "output_type": "stream",
          "name": "stdout",
          "text": [
            "/content/work_directory/programs\n"
          ]
        }
      ],
      "source": [
        "%cd programs"
      ]
    },
    {
      "cell_type": "code",
      "execution_count": 5,
      "metadata": {
        "colab": {
          "base_uri": "https://localhost:8080/"
        },
        "id": "qKk1t-OPlAwG",
        "outputId": "86b9cd1a-dded-4638-daed-df25344638bf"
      },
      "outputs": [
        {
          "output_type": "stream",
          "name": "stdout",
          "text": [
            "fatal: destination path 'deepxml' already exists and is not an empty directory.\n"
          ]
        }
      ],
      "source": [
        "! git clone https://github.com/Extreme-classification/deepxml.git"
      ]
    },
    {
      "cell_type": "code",
      "execution_count": 6,
      "metadata": {
        "colab": {
          "base_uri": "https://localhost:8080/"
        },
        "id": "BHDToLcelhtc",
        "outputId": "6370503e-5cc3-4864-f67c-2f9f6e52e6e1"
      },
      "outputs": [
        {
          "output_type": "stream",
          "name": "stdout",
          "text": [
            "fatal: destination path 'pyxclib' already exists and is not an empty directory.\n"
          ]
        }
      ],
      "source": [
        "! git clone https://github.com/kunaldahiya/pyxclib.git"
      ]
    },
    {
      "cell_type": "code",
      "execution_count": 7,
      "metadata": {
        "colab": {
          "base_uri": "https://localhost:8080/"
        },
        "id": "DF9IHT2plm_g",
        "outputId": "f4196614-695f-4bf3-e049-cb5d2b6273d3"
      },
      "outputs": [
        {
          "output_type": "stream",
          "name": "stdout",
          "text": [
            "/content/work_directory/programs/pyxclib\n"
          ]
        }
      ],
      "source": [
        "%cd pyxclib"
      ]
    },
    {
      "cell_type": "code",
      "execution_count": 8,
      "metadata": {
        "colab": {
          "base_uri": "https://localhost:8080/"
        },
        "id": "t8OxO5BipEqw",
        "outputId": "a6e0dadd-cce5-4e4a-8fcf-a265e83c1993"
      },
      "outputs": [
        {
          "output_type": "stream",
          "name": "stdout",
          "text": [
            "Reading package lists... Done\n",
            "Building dependency tree... Done\n",
            "Reading state information... Done\n",
            "python3-pybind11 is already the newest version (2.9.1-2).\n",
            "0 upgraded, 0 newly installed, 0 to remove and 45 not upgraded.\n"
          ]
        }
      ],
      "source": [
        "! sudo apt -y install python3-pybind11"
      ]
    },
    {
      "cell_type": "code",
      "execution_count": 9,
      "metadata": {
        "colab": {
          "base_uri": "https://localhost:8080/"
        },
        "id": "blV3x2uNnCDe",
        "outputId": "b0c80c29-db67-4293-8ac9-5570cf11a87a"
      },
      "outputs": [
        {
          "output_type": "stream",
          "name": "stdout",
          "text": [
            "Requirement already satisfied: nmslib in /usr/local/lib/python3.10/dist-packages (2.1.1)\n",
            "Requirement already satisfied: pybind11<2.6.2 in /usr/local/lib/python3.10/dist-packages (from nmslib) (2.6.1)\n",
            "Requirement already satisfied: psutil in /usr/local/lib/python3.10/dist-packages (from nmslib) (5.9.5)\n",
            "Requirement already satisfied: numpy>=1.10.0 in /usr/local/lib/python3.10/dist-packages (from nmslib) (1.25.2)\n",
            "\u001b[31mERROR: Operation cancelled by user\u001b[0m\u001b[31m\n",
            "\u001b[0mTraceback (most recent call last):\n",
            "  File \"/usr/local/lib/python3.10/dist-packages/pip/_vendor/pkg_resources/__init__.py\", line 3108, in _dep_map\n",
            "    return self.__dep_map\n",
            "  File \"/usr/local/lib/python3.10/dist-packages/pip/_vendor/pkg_resources/__init__.py\", line 2901, in __getattr__\n",
            "    raise AttributeError(attr)\n",
            "AttributeError: _DistInfoDistribution__dep_map\n",
            "\n",
            "During handling of the above exception, another exception occurred:\n",
            "\n",
            "Traceback (most recent call last):\n",
            "  File \"/usr/local/lib/python3.10/dist-packages/pip/_internal/cli/base_command.py\", line 169, in exc_logging_wrapper\n",
            "    status = run_func(*args)\n",
            "  File \"/usr/local/lib/python3.10/dist-packages/pip/_internal/cli/req_command.py\", line 242, in wrapper\n",
            "    return func(self, options, args)\n",
            "  File \"/usr/local/lib/python3.10/dist-packages/pip/_internal/commands/install.py\", line 441, in run\n",
            "    conflicts = self._determine_conflicts(to_install)\n",
            "  File \"/usr/local/lib/python3.10/dist-packages/pip/_internal/commands/install.py\", line 572, in _determine_conflicts\n",
            "    return check_install_conflicts(to_install)\n",
            "  File \"/usr/local/lib/python3.10/dist-packages/pip/_internal/operations/check.py\", line 101, in check_install_conflicts\n",
            "    package_set, _ = create_package_set_from_installed()\n",
            "  File \"/usr/local/lib/python3.10/dist-packages/pip/_internal/operations/check.py\", line 42, in create_package_set_from_installed\n",
            "    dependencies = list(dist.iter_dependencies())\n",
            "  File \"/usr/local/lib/python3.10/dist-packages/pip/_internal/metadata/pkg_resources.py\", line 216, in iter_dependencies\n",
            "    return self._dist.requires(extras)\n",
            "  File \"/usr/local/lib/python3.10/dist-packages/pip/_vendor/pkg_resources/__init__.py\", line 2821, in requires\n",
            "    dm = self._dep_map\n",
            "  File \"/usr/local/lib/python3.10/dist-packages/pip/_vendor/pkg_resources/__init__.py\", line 3110, in _dep_map\n",
            "    self.__dep_map = self._compute_dependencies()\n",
            "  File \"/usr/local/lib/python3.10/dist-packages/pip/_vendor/pkg_resources/__init__.py\", line 3120, in _compute_dependencies\n",
            "    reqs.extend(parse_requirements(req))\n",
            "  File \"/usr/local/lib/python3.10/dist-packages/pip/_vendor/pkg_resources/__init__.py\", line 3173, in __init__\n",
            "    super(Requirement, self).__init__(requirement_string)\n",
            "  File \"/usr/local/lib/python3.10/dist-packages/pip/_vendor/packaging/requirements.py\", line 102, in __init__\n",
            "    req = REQUIREMENT.parseString(requirement_string)\n",
            "  File \"/usr/local/lib/python3.10/dist-packages/pip/_vendor/pyparsing/core.py\", line 1131, in parse_string\n",
            "    loc, tokens = self._parse(instring, 0)\n",
            "  File \"/usr/local/lib/python3.10/dist-packages/pip/_vendor/pyparsing/core.py\", line 817, in _parseNoCache\n",
            "    loc, tokens = self.parseImpl(instring, pre_loc, doActions)\n",
            "  File \"/usr/local/lib/python3.10/dist-packages/pip/_vendor/pyparsing/core.py\", line 3886, in parseImpl\n",
            "    loc, exprtokens = e._parse(instring, loc, doActions)\n",
            "  File \"/usr/local/lib/python3.10/dist-packages/pip/_vendor/pyparsing/core.py\", line 817, in _parseNoCache\n",
            "    loc, tokens = self.parseImpl(instring, pre_loc, doActions)\n",
            "  File \"/usr/local/lib/python3.10/dist-packages/pip/_vendor/pyparsing/core.py\", line 4114, in parseImpl\n",
            "    return e._parse(\n",
            "  File \"/usr/local/lib/python3.10/dist-packages/pip/_vendor/pyparsing/core.py\", line 817, in _parseNoCache\n",
            "    loc, tokens = self.parseImpl(instring, pre_loc, doActions)\n",
            "  File \"/usr/local/lib/python3.10/dist-packages/pip/_vendor/pyparsing/core.py\", line 3886, in parseImpl\n",
            "    loc, exprtokens = e._parse(instring, loc, doActions)\n",
            "  File \"/usr/local/lib/python3.10/dist-packages/pip/_vendor/pyparsing/core.py\", line 817, in _parseNoCache\n",
            "    loc, tokens = self.parseImpl(instring, pre_loc, doActions)\n",
            "  File \"/usr/local/lib/python3.10/dist-packages/pip/_vendor/pyparsing/core.py\", line 4959, in parseImpl\n",
            "    loc, tokens = self_expr._parse(instring, loc, doActions, callPreParse=False)\n",
            "  File \"/usr/local/lib/python3.10/dist-packages/pip/_vendor/pyparsing/core.py\", line 817, in _parseNoCache\n",
            "    loc, tokens = self.parseImpl(instring, pre_loc, doActions)\n",
            "  File \"/usr/local/lib/python3.10/dist-packages/pip/_vendor/pyparsing/core.py\", line 3886, in parseImpl\n",
            "    loc, exprtokens = e._parse(instring, loc, doActions)\n",
            "  File \"/usr/local/lib/python3.10/dist-packages/pip/_vendor/pyparsing/core.py\", line 856, in _parseNoCache\n",
            "    tokens = fn(instring, tokens_start, ret_tokens)\n",
            "  File \"/usr/local/lib/python3.10/dist-packages/pip/_vendor/pyparsing/core.py\", line 291, in wrapper\n",
            "    ret = func(*args[limit:])\n",
            "  File \"/usr/local/lib/python3.10/dist-packages/pip/_vendor/packaging/requirements.py\", line 71, in <lambda>\n",
            "    lambda s, l, t: Marker(s[t._original_start : t._original_end])\n",
            "  File \"/usr/local/lib/python3.10/dist-packages/pip/_vendor/packaging/markers.py\", line 278, in __init__\n",
            "    self._markers = _coerce_parse_result(MARKER.parseString(marker))\n",
            "  File \"/usr/local/lib/python3.10/dist-packages/pip/_vendor/pyparsing/core.py\", line 1131, in parse_string\n",
            "    loc, tokens = self._parse(instring, 0)\n",
            "  File \"/usr/local/lib/python3.10/dist-packages/pip/_vendor/pyparsing/core.py\", line 817, in _parseNoCache\n",
            "    loc, tokens = self.parseImpl(instring, pre_loc, doActions)\n",
            "  File \"/usr/local/lib/python3.10/dist-packages/pip/_vendor/pyparsing/core.py\", line 3886, in parseImpl\n",
            "    loc, exprtokens = e._parse(instring, loc, doActions)\n",
            "  File \"/usr/local/lib/python3.10/dist-packages/pip/_vendor/pyparsing/core.py\", line 817, in _parseNoCache\n",
            "    loc, tokens = self.parseImpl(instring, pre_loc, doActions)\n",
            "  File \"/usr/local/lib/python3.10/dist-packages/pip/_vendor/pyparsing/core.py\", line 5226, in parseImpl\n",
            "    return super().parseImpl(instring, loc, doActions)\n",
            "  File \"/usr/local/lib/python3.10/dist-packages/pip/_vendor/pyparsing/core.py\", line 4375, in parseImpl\n",
            "    return self.expr._parse(instring, loc, doActions, callPreParse=False)\n",
            "  File \"/usr/local/lib/python3.10/dist-packages/pip/_vendor/pyparsing/core.py\", line 817, in _parseNoCache\n",
            "    loc, tokens = self.parseImpl(instring, pre_loc, doActions)\n",
            "  File \"/usr/local/lib/python3.10/dist-packages/pip/_vendor/pyparsing/core.py\", line 3864, in parseImpl\n",
            "    loc, resultlist = self.exprs[0]._parse(\n",
            "  File \"/usr/local/lib/python3.10/dist-packages/pip/_vendor/pyparsing/core.py\", line 817, in _parseNoCache\n",
            "    loc, tokens = self.parseImpl(instring, pre_loc, doActions)\n",
            "  File \"/usr/local/lib/python3.10/dist-packages/pip/_vendor/pyparsing/core.py\", line 4114, in parseImpl\n",
            "    return e._parse(\n",
            "  File \"/usr/local/lib/python3.10/dist-packages/pip/_vendor/pyparsing/core.py\", line 817, in _parseNoCache\n",
            "    loc, tokens = self.parseImpl(instring, pre_loc, doActions)\n",
            "  File \"/usr/local/lib/python3.10/dist-packages/pip/_vendor/pyparsing/core.py\", line 4375, in parseImpl\n",
            "    return self.expr._parse(instring, loc, doActions, callPreParse=False)\n",
            "  File \"/usr/local/lib/python3.10/dist-packages/pip/_vendor/pyparsing/core.py\", line 817, in _parseNoCache\n",
            "    loc, tokens = self.parseImpl(instring, pre_loc, doActions)\n",
            "  File \"/usr/local/lib/python3.10/dist-packages/pip/_vendor/pyparsing/core.py\", line 3887, in parseImpl\n",
            "    if exprtokens or exprtokens.haskeys():\n",
            "  File \"/usr/local/lib/python3.10/dist-packages/pip/_vendor/pyparsing/results.py\", line 244, in __bool__\n",
            "    def __bool__(self) -> bool:\n",
            "KeyboardInterrupt\n",
            "\n",
            "During handling of the above exception, another exception occurred:\n",
            "\n",
            "Traceback (most recent call last):\n",
            "  File \"/usr/local/bin/pip3\", line 8, in <module>\n",
            "    sys.exit(main())\n",
            "  File \"/usr/local/lib/python3.10/dist-packages/pip/_internal/cli/main.py\", line 79, in main\n",
            "    return command.main(cmd_args)\n",
            "  File \"/usr/local/lib/python3.10/dist-packages/pip/_internal/cli/base_command.py\", line 101, in main\n",
            "    return self._main(args)\n",
            "  File \"/usr/local/lib/python3.10/dist-packages/pip/_internal/cli/base_command.py\", line 223, in _main\n",
            "    return run(options, args)\n",
            "  File \"/usr/local/lib/python3.10/dist-packages/pip/_internal/cli/base_command.py\", line 206, in exc_logging_wrapper\n",
            "    logger.critical(\"Operation cancelled by user\")\n",
            "  File \"/usr/lib/python3.10/logging/__init__.py\", line 1524, in critical\n",
            "    self._log(CRITICAL, msg, args, **kwargs)\n",
            "  File \"/usr/lib/python3.10/logging/__init__.py\", line 1624, in _log\n",
            "    self.handle(record)\n",
            "  File \"/usr/lib/python3.10/logging/__init__.py\", line 1634, in handle\n",
            "    self.callHandlers(record)\n",
            "  File \"/usr/lib/python3.10/logging/__init__.py\", line 1696, in callHandlers\n",
            "    hdlr.handle(record)\n",
            "  File \"/usr/lib/python3.10/logging/__init__.py\", line 968, in handle\n",
            "    self.emit(record)\n",
            "  File \"/usr/lib/python3.10/logging/handlers.py\", line 75, in emit\n",
            "    logging.FileHandler.emit(self, record)\n",
            "  File \"/usr/lib/python3.10/logging/__init__.py\", line 1218, in emit\n",
            "    StreamHandler.emit(self, record)\n",
            "  File \"/usr/lib/python3.10/logging/__init__.py\", line 1100, in emit\n",
            "    msg = self.format(record)\n",
            "  File \"/usr/lib/python3.10/logging/__init__.py\", line 943, in format\n",
            "    return fmt.format(record)\n",
            "  File \"/usr/local/lib/python3.10/dist-packages/pip/_internal/utils/logging.py\", line 112, in format\n",
            "    formatted = super().format(record)\n",
            "  File \"/usr/lib/python3.10/logging/__init__.py\", line 665, in format\n",
            "    def format(self, record):\n",
            "KeyboardInterrupt\n",
            "^C\n",
            "running install\n",
            "/usr/local/lib/python3.10/dist-packages/setuptools/_distutils/cmd.py:66: SetuptoolsDeprecationWarning: setup.py install is deprecated.\n",
            "!!\n",
            "\n",
            "        ********************************************************************************\n",
            "        Please avoid running ``setup.py`` directly.\n",
            "        Instead, use pypa/build, pypa/installer, pypa/build or\n",
            "        other standards-based tools.\n",
            "\n",
            "        See https://blog.ganssle.io/articles/2021/10/setup-py-deprecated.html for details.\n",
            "        ********************************************************************************\n",
            "\n",
            "!!\n",
            "  self.initialize_options()\n",
            "/usr/local/lib/python3.10/dist-packages/setuptools/_distutils/cmd.py:66: EasyInstallDeprecationWarning: easy_install command is deprecated.\n",
            "!!\n",
            "\n",
            "        ********************************************************************************\n",
            "        Please avoid running ``setup.py`` and ``easy_install``.\n",
            "        Instead, use pypa/build, pypa/installer, pypa/build or\n",
            "        other standards-based tools.\n",
            "\n",
            "        See https://github.com/pypa/setuptools/issues/917 for details.\n",
            "        ********************************************************************************\n",
            "\n",
            "!!\n",
            "  self.initialize_options()\n",
            "running bdist_egg\n",
            "running egg_info\n",
            "writing xclib.egg-info/PKG-INFO\n",
            "writing dependency_links to xclib.egg-info/dependency_links.txt\n",
            "writing requirements to xclib.egg-info/requires.txt\n",
            "writing top-level names to xclib.egg-info/top_level.txt\n",
            "reading manifest file 'xclib.egg-info/SOURCES.txt'\n",
            "adding license file 'LICENSE'\n",
            "writing manifest file 'xclib.egg-info/SOURCES.txt'\n",
            "installing library code to build/bdist.linux-x86_64/egg\n",
            "running install_lib\n",
            "running build_py\n",
            "running build_ext\n",
            "creating build/bdist.linux-x86_64/egg\n",
            "creating build/bdist.linux-x86_64/egg/xclib\n",
            "copying build/lib.linux-x86_64-cpython-310/xclib/__init__.py -> build/bdist.linux-x86_64/egg/xclib\n",
            "creating build/bdist.linux-x86_64/egg/xclib/embeddings\n",
            "copying build/lib.linux-x86_64-cpython-310/xclib/embeddings/__init__.py -> build/bdist.linux-x86_64/egg/xclib/embeddings\n",
            "copying build/lib.linux-x86_64-cpython-310/xclib/embeddings/fasttext_embeddings.py -> build/bdist.linux-x86_64/egg/xclib/embeddings\n",
            "creating build/bdist.linux-x86_64/egg/xclib/data\n",
            "copying build/lib.linux-x86_64-cpython-310/xclib/data/data_loader.py -> build/bdist.linux-x86_64/egg/xclib/data\n",
            "copying build/lib.linux-x86_64-cpython-310/xclib/data/__init__.py -> build/bdist.linux-x86_64/egg/xclib/data\n",
            "copying build/lib.linux-x86_64-cpython-310/xclib/data/data_statistics.py -> build/bdist.linux-x86_64/egg/xclib/data\n",
            "copying build/lib.linux-x86_64-cpython-310/xclib/data/data_utils.py -> build/bdist.linux-x86_64/egg/xclib/data\n",
            "copying build/lib.linux-x86_64-cpython-310/xclib/data/labels.py -> build/bdist.linux-x86_64/egg/xclib/data\n",
            "copying build/lib.linux-x86_64-cpython-310/xclib/data/features.py -> build/bdist.linux-x86_64/egg/xclib/data\n",
            "creating build/bdist.linux-x86_64/egg/xclib/utils\n",
            "copying build/lib.linux-x86_64-cpython-310/xclib/utils/analysis.py -> build/bdist.linux-x86_64/egg/xclib/utils\n",
            "copying build/lib.linux-x86_64-cpython-310/xclib/utils/shortlist.py -> build/bdist.linux-x86_64/egg/xclib/utils\n",
            "copying build/lib.linux-x86_64-cpython-310/xclib/utils/__init__.py -> build/bdist.linux-x86_64/egg/xclib/utils\n",
            "copying build/lib.linux-x86_64-cpython-310/xclib/utils/sparse.py -> build/bdist.linux-x86_64/egg/xclib/utils\n",
            "copying build/lib.linux-x86_64-cpython-310/xclib/utils/_sparse.cpython-310-x86_64-linux-gnu.so -> build/bdist.linux-x86_64/egg/xclib/utils\n",
            "copying build/lib.linux-x86_64-cpython-310/xclib/utils/dense.py -> build/bdist.linux-x86_64/egg/xclib/utils\n",
            "copying build/lib.linux-x86_64-cpython-310/xclib/utils/clustering.py -> build/bdist.linux-x86_64/egg/xclib/utils\n",
            "copying build/lib.linux-x86_64-cpython-310/xclib/utils/misc.py -> build/bdist.linux-x86_64/egg/xclib/utils\n",
            "copying build/lib.linux-x86_64-cpython-310/xclib/utils/_sparse.c -> build/bdist.linux-x86_64/egg/xclib/utils\n",
            "copying build/lib.linux-x86_64-cpython-310/xclib/utils/clustering_gpu.py -> build/bdist.linux-x86_64/egg/xclib/utils\n",
            "copying build/lib.linux-x86_64-cpython-310/xclib/utils/ann.py -> build/bdist.linux-x86_64/egg/xclib/utils\n",
            "copying build/lib.linux-x86_64-cpython-310/xclib/utils/numba_utils.py -> build/bdist.linux-x86_64/egg/xclib/utils\n",
            "copying build/lib.linux-x86_64-cpython-310/xclib/utils/matrix.py -> build/bdist.linux-x86_64/egg/xclib/utils\n",
            "copying build/lib.linux-x86_64-cpython-310/xclib/utils/graph.py -> build/bdist.linux-x86_64/egg/xclib/utils\n",
            "copying build/lib.linux-x86_64-cpython-310/xclib/utils/text.py -> build/bdist.linux-x86_64/egg/xclib/utils\n",
            "creating build/bdist.linux-x86_64/egg/xclib/classifier\n",
            "copying build/lib.linux-x86_64-cpython-310/xclib/classifier/_svm.py -> build/bdist.linux-x86_64/egg/xclib/classifier\n",
            "copying build/lib.linux-x86_64-cpython-310/xclib/classifier/ova.py -> build/bdist.linux-x86_64/egg/xclib/classifier\n",
            "copying build/lib.linux-x86_64-cpython-310/xclib/classifier/__init__.py -> build/bdist.linux-x86_64/egg/xclib/classifier\n",
            "copying build/lib.linux-x86_64-cpython-310/xclib/classifier/parameters.py -> build/bdist.linux-x86_64/egg/xclib/classifier\n",
            "copying build/lib.linux-x86_64-cpython-310/xclib/classifier/parameters_base.py -> build/bdist.linux-x86_64/egg/xclib/classifier\n",
            "copying build/lib.linux-x86_64-cpython-310/xclib/classifier/knn.py -> build/bdist.linux-x86_64/egg/xclib/classifier\n",
            "copying build/lib.linux-x86_64-cpython-310/xclib/classifier/mips.py -> build/bdist.linux-x86_64/egg/xclib/classifier\n",
            "copying build/lib.linux-x86_64-cpython-310/xclib/classifier/kcentroid.py -> build/bdist.linux-x86_64/egg/xclib/classifier\n",
            "copying build/lib.linux-x86_64-cpython-310/xclib/classifier/base.py -> build/bdist.linux-x86_64/egg/xclib/classifier\n",
            "copying build/lib.linux-x86_64-cpython-310/xclib/classifier/slice.py -> build/bdist.linux-x86_64/egg/xclib/classifier\n",
            "creating build/bdist.linux-x86_64/egg/xclib/evaluation\n",
            "copying build/lib.linux-x86_64-cpython-310/xclib/evaluation/xc_metrics.py -> build/bdist.linux-x86_64/egg/xclib/evaluation\n",
            "copying build/lib.linux-x86_64-cpython-310/xclib/evaluation/__init__.py -> build/bdist.linux-x86_64/egg/xclib/evaluation\n",
            "byte-compiling build/bdist.linux-x86_64/egg/xclib/__init__.py to __init__.cpython-310.pyc\n",
            "byte-compiling build/bdist.linux-x86_64/egg/xclib/embeddings/__init__.py to __init__.cpython-310.pyc\n",
            "byte-compiling build/bdist.linux-x86_64/egg/xclib/embeddings/fasttext_embeddings.py to fasttext_embeddings.cpython-310.pyc\n",
            "byte-compiling build/bdist.linux-x86_64/egg/xclib/data/data_loader.py to data_loader.cpython-310.pyc\n",
            "byte-compiling build/bdist.linux-x86_64/egg/xclib/data/__init__.py to __init__.cpython-310.pyc\n",
            "byte-compiling build/bdist.linux-x86_64/egg/xclib/data/data_statistics.py to data_statistics.cpython-310.pyc\n",
            "byte-compiling build/bdist.linux-x86_64/egg/xclib/data/data_utils.py to data_utils.cpython-310.pyc\n",
            "byte-compiling build/bdist.linux-x86_64/egg/xclib/data/labels.py to labels.cpython-310.pyc\n",
            "byte-compiling build/bdist.linux-x86_64/egg/xclib/data/features.py to features.cpython-310.pyc\n",
            "byte-compiling build/bdist.linux-x86_64/egg/xclib/utils/analysis.py to analysis.cpython-310.pyc\n",
            "byte-compiling build/bdist.linux-x86_64/egg/xclib/utils/shortlist.py to shortlist.cpython-310.pyc\n",
            "byte-compiling build/bdist.linux-x86_64/egg/xclib/utils/__init__.py to __init__.cpython-310.pyc\n",
            "byte-compiling build/bdist.linux-x86_64/egg/xclib/utils/sparse.py to sparse.cpython-310.pyc\n",
            "byte-compiling build/bdist.linux-x86_64/egg/xclib/utils/dense.py to dense.cpython-310.pyc\n",
            "byte-compiling build/bdist.linux-x86_64/egg/xclib/utils/clustering.py to clustering.cpython-310.pyc\n",
            "byte-compiling build/bdist.linux-x86_64/egg/xclib/utils/misc.py to misc.cpython-310.pyc\n",
            "byte-compiling build/bdist.linux-x86_64/egg/xclib/utils/clustering_gpu.py to clustering_gpu.cpython-310.pyc\n",
            "byte-compiling build/bdist.linux-x86_64/egg/xclib/utils/ann.py to ann.cpython-310.pyc\n",
            "byte-compiling build/bdist.linux-x86_64/egg/xclib/utils/numba_utils.py to numba_utils.cpython-310.pyc\n",
            "byte-compiling build/bdist.linux-x86_64/egg/xclib/utils/matrix.py to matrix.cpython-310.pyc\n",
            "byte-compiling build/bdist.linux-x86_64/egg/xclib/utils/graph.py to graph.cpython-310.pyc\n",
            "byte-compiling build/bdist.linux-x86_64/egg/xclib/utils/text.py to text.cpython-310.pyc\n",
            "byte-compiling build/bdist.linux-x86_64/egg/xclib/classifier/_svm.py to _svm.cpython-310.pyc\n",
            "byte-compiling build/bdist.linux-x86_64/egg/xclib/classifier/ova.py to ova.cpython-310.pyc\n",
            "byte-compiling build/bdist.linux-x86_64/egg/xclib/classifier/__init__.py to __init__.cpython-310.pyc\n",
            "byte-compiling build/bdist.linux-x86_64/egg/xclib/classifier/parameters.py to parameters.cpython-310.pyc\n",
            "byte-compiling build/bdist.linux-x86_64/egg/xclib/classifier/parameters_base.py to parameters_base.cpython-310.pyc\n",
            "byte-compiling build/bdist.linux-x86_64/egg/xclib/classifier/knn.py to knn.cpython-310.pyc\n",
            "byte-compiling build/bdist.linux-x86_64/egg/xclib/classifier/mips.py to mips.cpython-310.pyc\n",
            "byte-compiling build/bdist.linux-x86_64/egg/xclib/classifier/kcentroid.py to kcentroid.cpython-310.pyc\n",
            "byte-compiling build/bdist.linux-x86_64/egg/xclib/classifier/base.py to base.cpython-310.pyc\n",
            "byte-compiling build/bdist.linux-x86_64/egg/xclib/classifier/slice.py to slice.cpython-310.pyc\n",
            "byte-compiling build/bdist.linux-x86_64/egg/xclib/evaluation/xc_metrics.py to xc_metrics.cpython-310.pyc\n",
            "byte-compiling build/bdist.linux-x86_64/egg/xclib/evaluation/__init__.py to __init__.cpython-310.pyc\n",
            "creating stub loader for xclib/utils/_sparse.cpython-310-x86_64-linux-gnu.so\n",
            "byte-compiling build/bdist.linux-x86_64/egg/xclib/utils/_sparse.py to _sparse.cpython-310.pyc\n",
            "creating build/bdist.linux-x86_64/egg/EGG-INFO\n",
            "copying xclib.egg-info/PKG-INFO -> build/bdist.linux-x86_64/egg/EGG-INFO\n",
            "copying xclib.egg-info/SOURCES.txt -> build/bdist.linux-x86_64/egg/EGG-INFO\n",
            "copying xclib.egg-info/dependency_links.txt -> build/bdist.linux-x86_64/egg/EGG-INFO\n",
            "copying xclib.egg-info/requires.txt -> build/bdist.linux-x86_64/egg/EGG-INFO\n",
            "copying xclib.egg-info/top_level.txt -> build/bdist.linux-x86_64/egg/EGG-INFO\n",
            "writing build/bdist.linux-x86_64/egg/EGG-INFO/native_libs.txt\n",
            "zip_safe flag not set; analyzing archive contents...\n",
            "xclib.utils.__pycache__._sparse.cpython-310: module references __file__\n",
            "creating 'dist/xclib-0.97-py3.10-linux-x86_64.egg' and adding 'build/bdist.linux-x86_64/egg' to it\n",
            "interrupted\n"
          ]
        }
      ],
      "source": [
        "! pip install nmslib\n",
        "! python setup.py install"
      ]
    },
    {
      "cell_type": "code",
      "execution_count": 10,
      "metadata": {
        "colab": {
          "base_uri": "https://localhost:8080/"
        },
        "id": "sGfq15-1pTY7",
        "outputId": "548601bc-a8ff-46ce-ea90-32dc48258c7e"
      },
      "outputs": [
        {
          "output_type": "stream",
          "name": "stdout",
          "text": [
            "/content/work_directory/data\n"
          ]
        }
      ],
      "source": [
        "%cd /content/work_directory/data\n",
        "#%cd ./data"
      ]
    },
    {
      "cell_type": "code",
      "execution_count": 11,
      "metadata": {
        "id": "9URx-LJs26kj"
      },
      "outputs": [],
      "source": [
        "#!unzip /content/work_directory/data/LF-AmazonTitles-131K-20240508T105620Z-001.zip"
      ]
    },
    {
      "cell_type": "code",
      "execution_count": 12,
      "metadata": {
        "id": "3vOA5_rjphyz",
        "colab": {
          "base_uri": "https://localhost:8080/"
        },
        "outputId": "fda8fbd5-6621-4b48-dac9-f00263e9a71c"
      },
      "outputs": [
        {
          "output_type": "stream",
          "name": "stdout",
          "text": [
            "Downloading...\n",
            "From (original): https://drive.google.com/uc?id=1VlfcdJKJA99223fLEawRmrXhXpwjwJKn\n",
            "From (redirected): https://drive.google.com/uc?id=1VlfcdJKJA99223fLEawRmrXhXpwjwJKn&confirm=t&uuid=dba767d5-472d-4ac1-a826-6d3cc847bc2d\n",
            "To: /content/work_directory/data/LF-AmazonTitles-131K.bow.zip\n",
            "100% 72.8M/72.8M [00:02<00:00, 33.7MB/s]\n",
            "Archive:  LF-AmazonTitles-131K-20240508T105620Z-001.zip\n",
            "  End-of-central-directory signature not found.  Either this file is not\n",
            "  a zipfile, or it constitutes one disk of a multi-part archive.  In the\n",
            "  latter case the central directory and zipfile comment will be found on\n",
            "  the last disk(s) of this archive.\n",
            "unzip:  cannot find zipfile directory in one of LF-AmazonTitles-131K-20240508T105620Z-001.zip or\n",
            "        LF-AmazonTitles-131K-20240508T105620Z-001.zip.zip, and cannot find LF-AmazonTitles-131K-20240508T105620Z-001.zip.ZIP, period.\n"
          ]
        }
      ],
      "source": [
        "! gdown 1VlfcdJKJA99223fLEawRmrXhXpwjwJKn\n",
        "# /content/work_directory/data/LF-AmazonTitles-131K.bow.zip\n",
        "! unzip *.zip"
      ]
    },
    {
      "cell_type": "code",
      "execution_count": 13,
      "metadata": {
        "colab": {
          "base_uri": "https://localhost:8080/"
        },
        "id": "tAbcFXKVrvZw",
        "outputId": "accedad0-100c-4b5e-c8d7-d42acadd4d8b"
      },
      "outputs": [
        {
          "output_type": "stream",
          "name": "stdout",
          "text": [
            "/content/work_directory/programs/deepxml/deepxml/tools\n"
          ]
        }
      ],
      "source": [
        "#%cd .\n",
        "#%cd work_directory\n",
        "%cd /content/work_directory/programs/deepxml/deepxml/tools"
      ]
    },
    {
      "cell_type": "code",
      "execution_count": 14,
      "metadata": {
        "id": "OH9TRnQyquR1"
      },
      "outputs": [],
      "source": [
        "! perl convert_format.pl /content/work_directory/programs/deepxml/deepxml/tools/LF-AmazonTitles-131K/train.txt /content/work_directory/programs/deepxml/deepxml/tools/LF-AmazonTitles-131K/trn_X_Xf.txt /content/work_directory/programs/deepxml/deepxml/tools/LF-AmazonTitles-131K//trn_X_Y.txt\n",
        "! perl convert_format.pl /content/work_directory/programs/deepxml/deepxml/tools/LF-AmazonTitles-131K/test.txt /content/work_directory/programs/deepxml/deepxml/tools/LF-AmazonTitles-131K/tst_X_Xf.txt /content/work_directory/programs/deepxml/deepxml/tools/LF-AmazonTitles-131K/tst_X_Y.txt"
      ]
    },
    {
      "cell_type": "code",
      "execution_count": 15,
      "metadata": {
        "colab": {
          "base_uri": "https://localhost:8080/"
        },
        "id": "2D7t9c9ZscaW",
        "outputId": "4e3037e5-a727-4162-c25f-cfe4101804d5"
      },
      "outputs": [
        {
          "output_type": "stream",
          "name": "stdout",
          "text": [
            "/content/work_directory/programs/deepxml/deepxml\n",
            "/content/work_directory/programs/deepxml/deepxml/run_scripts\n"
          ]
        }
      ],
      "source": [
        "%cd ..\n",
        "%cd /content/work_directory/programs/deepxml/deepxml/run_scripts"
      ]
    },
    {
      "cell_type": "code",
      "execution_count": 16,
      "metadata": {
        "id": "UfHyitzps3I7",
        "colab": {
          "base_uri": "https://localhost:8080/"
        },
        "outputId": "c2629cee-9a93-4369-9789-242582ea0f1b"
      },
      "outputs": [
        {
          "output_type": "stream",
          "name": "stdout",
          "text": [
            "Requirement already satisfied: hnswlib in /usr/local/lib/python3.10/dist-packages (0.8.0)\n",
            "Requirement already satisfied: numpy in /usr/local/lib/python3.10/dist-packages (from hnswlib) (1.25.2)\n"
          ]
        }
      ],
      "source": [
        "! pip install hnswlib"
      ]
    },
    {
      "cell_type": "code",
      "execution_count": 34,
      "metadata": {
        "colab": {
          "base_uri": "https://localhost:8080/"
        },
        "id": "n8ym7Ay-ui5w",
        "outputId": "951ed122-c43d-4af4-df5b-b0f0aa26c9b6"
      },
      "outputs": [
        {
          "output_type": "stream",
          "name": "stdout",
          "text": [
            "Using existing data for surrogate task!\n",
            "\n",
            "Setting the seed value: 108\n",
            "Traceback (most recent call last):\n",
            "  File \"/content/work_directory/programs/deepxml/deepxml/run_scripts/../runner.py\", line 428, in <module>\n",
            "    run_one(\n",
            "  File \"/content/work_directory/programs/deepxml/deepxml/run_scripts/../runner.py\", line 376, in run_one\n",
            "    return run_deepxml(work_dir, version, seed, config)\n",
            "  File \"/content/work_directory/programs/deepxml/deepxml/run_scripts/../runner.py\", line 127, in run_deepxml\n",
            "    _train_time, _ = main(args)\n",
            "  File \"/content/work_directory/programs/deepxml/deepxml/main.py\", line 402, in main\n",
            "    embeddings = load_emeddings(params)\n",
            "  File \"/content/work_directory/programs/deepxml/deepxml/main.py\", line 45, in load_emeddings\n",
            "    assert params.vocabulary_dims == embeddings.shape[0]\n",
            "AssertionError\n"
          ]
        }
      ],
      "source": [
        "! ./run_main.sh 0 DeepXML EURLex-4K 0 108"
      ]
    },
    {
      "cell_type": "code",
      "execution_count": 29,
      "metadata": {
        "colab": {
          "base_uri": "https://localhost:8080/"
        },
        "id": "neueei8_sUA6",
        "outputId": "a54b67f8-e318-4570-f041-d65f9aaa3f6f"
      },
      "outputs": [
        {
          "output_type": "stream",
          "name": "stdout",
          "text": [
            "Using existing data for surrogate task!\n",
            "\n",
            "Setting the seed value: 108\n",
            "Embedding File not found. Check path or set 'init' to null\n"
          ]
        }
      ],
      "source": [
        "! /content/work_directory/programs/deepxml/deepxml/run_scripts/run_main.sh 0 DeepXML EURLex-4K 0 108"
      ]
    },
    {
      "cell_type": "code",
      "execution_count": 19,
      "metadata": {
        "colab": {
          "base_uri": "https://localhost:8080/"
        },
        "id": "XlufbvquwbVu",
        "outputId": "cad7df75-f372-46e9-cf34-b49d0799a881"
      },
      "outputs": [
        {
          "output_type": "stream",
          "name": "stdout",
          "text": [
            "/content/work_directory/programs/deepxml/deepxml/run_scripts\n"
          ]
        }
      ],
      "source": [
        "!pwd"
      ]
    }
  ],
  "metadata": {
    "colab": {
      "provenance": [],
      "authorship_tag": "ABX9TyNcYiGaghhJL3a6wqfD98Vz",
      "include_colab_link": true
    },
    "kernelspec": {
      "display_name": "Python 3",
      "name": "python3"
    },
    "language_info": {
      "name": "python"
    }
  },
  "nbformat": 4,
  "nbformat_minor": 0
}